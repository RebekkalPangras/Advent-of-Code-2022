{
  "nbformat": 4,
  "nbformat_minor": 0,
  "metadata": {
    "colab": {
      "provenance": [],
      "authorship_tag": "ABX9TyPGg4SX3eehE2D91hshwAB3",
      "include_colab_link": true
    },
    "kernelspec": {
      "name": "python3",
      "display_name": "Python 3"
    },
    "language_info": {
      "name": "python"
    }
  },
  "cells": [
    {
      "cell_type": "markdown",
      "metadata": {
        "id": "view-in-github",
        "colab_type": "text"
      },
      "source": [
        "<a href=\"https://colab.research.google.com/github/RebekkalPangras/Advent-of-Code-2022/blob/main/Advent_of_Code_2022.ipynb\" target=\"_parent\"><img src=\"https://colab.research.google.com/assets/colab-badge.svg\" alt=\"Open In Colab\"/></a>"
      ]
    },
    {
      "cell_type": "markdown",
      "source": [
        "# Day 1: Calorie Counting"
      ],
      "metadata": {
        "id": "_gLPHtwLuX2a"
      }
    },
    {
      "cell_type": "markdown",
      "source": [
        "## Part 1 : Find the Elf carrying the most Calories. How many total Calories is that Elf carrying?\n",
        "\n"
      ],
      "metadata": {
        "id": "4alMP5L_vGS2"
      }
    },
    {
      "cell_type": "code",
      "execution_count": null,
      "metadata": {
        "colab": {
          "base_uri": "https://localhost:8080/"
        },
        "id": "8qJdnnONpHOP",
        "outputId": "52fc318f-1427-4d22-fbf7-c3a2bc585c50"
      },
      "outputs": [
        {
          "output_type": "stream",
          "name": "stdout",
          "text": [
            "Elf with Max calorie =  60 Max Calorie =  71502\n"
          ]
        }
      ],
      "source": [
        "max_calorie_elf = 0\n",
        "max_calorie = 0;\n",
        "elf = 1;\n",
        "calorie_count = 0;\n",
        "with open('/content/day1.txt', 'r') as calories:\n",
        "  for calorie in calories:\n",
        "    if calorie.strip() == \"\":\n",
        "      if calorie_count > max_calorie:\n",
        "        max_calorie = calorie_count;\n",
        "        max_calorie_elf = elf\n",
        "      # print(\"Elf = \", elf, \"Calorie = \", calorie_count);\n",
        "      elf += 1\n",
        "      calorie_count = 0\n",
        "    else:\n",
        "      calorie_count += int(calorie.strip())\n",
        "if calorie_count > max_calorie:\n",
        "  max_calorie = calorie_count;\n",
        "print(\"Elf with Max calorie = \", max_calorie_elf, \"Max Calorie = \", max_calorie)"
      ]
    },
    {
      "cell_type": "markdown",
      "source": [
        "##  Part 2 : Find the top three Elves carrying the most Calories. How many Calories are those Elves carrying in total?"
      ],
      "metadata": {
        "id": "h2lcTXRpvLbC"
      }
    },
    {
      "cell_type": "code",
      "source": [
        "import operator\n",
        "elf_dict = {}\n",
        "elf = 1;\n",
        "calorie_count = 0;\n",
        "with open('/content/day1.txt', 'r') as calories:\n",
        "  for calorie in calories:\n",
        "    if calorie.strip() == \"\":\n",
        "        elf_dict[elf] = calorie_count\n",
        "        elf += 1\n",
        "        calorie_count = 0\n",
        "    else:\n",
        "      calorie_count += int(calorie.strip())\n",
        "elf_dict[elf] = calorie_count\n",
        "\n",
        "sorted_elf_dict = dict(sorted(elf_dict.items(), key=operator.itemgetter(1),reverse=True))\n",
        "i = 0\n",
        "first_three_elfs = []\n",
        "maximum_calories = 0\n",
        "for elf, calorie in sorted_elf_dict.items():\n",
        "  if i == 3:\n",
        "    break;\n",
        "  i += 1\n",
        "  first_three_elfs.append(elf)\n",
        "  maximum_calories += calorie\n",
        "print(\"Sum of top three Calories = \", maximum_calories)"
      ],
      "metadata": {
        "colab": {
          "base_uri": "https://localhost:8080/"
        },
        "id": "8YAcp9_6vNiR",
        "outputId": "bf3d9130-f4a8-4733-ff30-01e9ce7535e8"
      },
      "execution_count": null,
      "outputs": [
        {
          "output_type": "stream",
          "name": "stdout",
          "text": [
            "Sum of top three Calories =  208191\n"
          ]
        }
      ]
    },
    {
      "cell_type": "markdown",
      "source": [
        "# Day 2 - Rock Paper Scissors"
      ],
      "metadata": {
        "id": "MjiA-U_r5W5_"
      }
    },
    {
      "cell_type": "markdown",
      "source": [
        "## Part 1 : What would your total score be if everything goes exactly according to your strategy guide?"
      ],
      "metadata": {
        "id": "ujb4JxxS5bhw"
      }
    },
    {
      "cell_type": "code",
      "source": [
        "points = {\n",
        "    'A' : 1,\n",
        "    'B' : 2,\n",
        "    'C' : 3,\n",
        "    'X' : 1,\n",
        "    'Y' : 2,\n",
        "    'Z' : 3,\n",
        "    'won' : 6,\n",
        "    'lost' : 0,\n",
        "    'draw' : 3\n",
        "}\n",
        "score = 0\n",
        "with open('/content/day2.txt', 'r') as rounds:\n",
        "  for round in rounds:\n",
        "    opp, elf = round.strip().split()[0], round.strip().split()[1]\n",
        "    # print(opp, elf)\n",
        "    if((elf == 'X' and opp == 'A') or (elf == 'Y' and opp == 'B') or (elf == 'Z' and opp == 'C')):\n",
        "      score = score + points[elf] + points[\"draw\"]\n",
        "    elif(elf == 'X'):\n",
        "      if(opp == 'C'):\n",
        "        score = score + points[elf] + points[\"won\"]\n",
        "      else:\n",
        "        score = score + points[elf] + points[\"lost\"]\n",
        "    elif(elf == 'Y'):\n",
        "      if(opp == 'A'):\n",
        "        score = score + points[elf] + points[\"won\"]\n",
        "      else:\n",
        "        score = score + points[elf] + points[\"lost\"]\n",
        "    elif(elf == 'Z'):\n",
        "      if(opp == 'B'):\n",
        "        score = score + points[elf] + points[\"won\"]\n",
        "      else:\n",
        "        score = score + points[elf] + points[\"lost\"]\n",
        "print(\"Total score = \", score)"
      ],
      "metadata": {
        "id": "YndF46tL5gdT",
        "outputId": "a1b4dfa7-f91a-4164-c7fc-1034cf399345",
        "colab": {
          "base_uri": "https://localhost:8080/"
        }
      },
      "execution_count": null,
      "outputs": [
        {
          "output_type": "stream",
          "name": "stdout",
          "text": [
            "Total score =  15632\n"
          ]
        }
      ]
    },
    {
      "cell_type": "markdown",
      "source": [
        "## Part B : Elf's strategy guide"
      ],
      "metadata": {
        "id": "njzy2S5wLhR3"
      }
    },
    {
      "cell_type": "code",
      "source": [
        "points = {\n",
        "    'opp_rock' : 'A',\n",
        "    'opp_paper' : 'B',\n",
        "    'opp_scissor' : 'C',\n",
        "    'elf_rock' : 'X',\n",
        "    'elf_paper' : 'Y',\n",
        "    'elf_scissor' : 'Z',\n",
        "    'rock' : 1,\n",
        "    'paper' : 2,\n",
        "    'scissor' : 3,\n",
        "    'won' : 6,\n",
        "    'lost' : 0,\n",
        "    'draw' : 3\n",
        "}\n",
        "score = 0\n",
        "with open('/content/day2.txt', 'r') as rounds:\n",
        "  for round in rounds:\n",
        "    opp, elf = round.strip().split()[0], round.strip().split()[1]\n",
        "    if(elf == points['elf_rock']): # lose\n",
        "      if(opp==points['opp_rock']):\n",
        "        score = score + points['scissor'] + points['lost']\n",
        "      elif(opp==points['opp_paper']):\n",
        "        score = score + points['rock'] + points['lost']\n",
        "      else:\n",
        "        score = score + points['paper'] + points['lost']\n",
        "    elif(elf == points['elf_paper']): # draw\n",
        "      if(opp==points['opp_rock']):\n",
        "        score = score + points['rock'] + points['draw']\n",
        "      elif(opp==points['opp_paper']):\n",
        "        score = score + points['paper'] + points['draw']\n",
        "      else:\n",
        "        score = score + points['scissor'] + points['draw']\n",
        "    else: # win\n",
        "      if(opp==points['opp_rock']):\n",
        "        score = score + points['paper'] + points['won']\n",
        "      elif(opp==points['opp_paper']):\n",
        "        score = score + points['scissor'] + points['won']\n",
        "      else:\n",
        "        score = score + points['rock'] + points['won']\n",
        "print(\"Total score = \", score)"
      ],
      "metadata": {
        "id": "yD-Yp0T8LnMi",
        "outputId": "0e708845-a162-43c5-a372-7ebe71341e90",
        "colab": {
          "base_uri": "https://localhost:8080/"
        }
      },
      "execution_count": null,
      "outputs": [
        {
          "output_type": "stream",
          "name": "stdout",
          "text": [
            "Total score =  14416\n"
          ]
        }
      ]
    },
    {
      "cell_type": "markdown",
      "source": [
        "# Day 3 : Rucksack Reorganization"
      ],
      "metadata": {
        "id": "rEjAA5UvgIDR"
      }
    },
    {
      "cell_type": "markdown",
      "source": [
        "## Part 1 : Sum of priorities of values present in both the compartments of rucksacks"
      ],
      "metadata": {
        "id": "MKgVjJOegN9P"
      }
    },
    {
      "cell_type": "code",
      "source": [
        "# store the alphabets in a dict\n",
        "alphabets = {}\n",
        "case_count = 0\n",
        "total_priority = 0\n",
        "for i in range(97,123):\n",
        "    case_count += 1\n",
        "    alphabets[chr(i)] = case_count\n",
        "for i in range(65,91):\n",
        "    case_count += 1\n",
        "    alphabets[chr(i)] = case_count\n",
        "print(alphabets)\n",
        "with open('/content/day3.txt') as sacks:\n",
        "  for sack in sacks:\n",
        "    midpoint = int(len(sack.strip())/2)\n",
        "    compartment1, compartment2 = sack[:midpoint], sack[midpoint:]\n",
        "    commonitem = set(compartment1) & set(compartment2)\n",
        "    if(commonitem):\n",
        "      total_priority += alphabets[list(commonitem)[0]]\n",
        "print(total_priority)"
      ],
      "metadata": {
        "id": "iT3anf9ugV8b",
        "outputId": "b771eae9-472e-48f6-b28d-6d5c3da1735e",
        "colab": {
          "base_uri": "https://localhost:8080/"
        }
      },
      "execution_count": null,
      "outputs": [
        {
          "output_type": "stream",
          "name": "stdout",
          "text": [
            "{'a': 1, 'b': 2, 'c': 3, 'd': 4, 'e': 5, 'f': 6, 'g': 7, 'h': 8, 'i': 9, 'j': 10, 'k': 11, 'l': 12, 'm': 13, 'n': 14, 'o': 15, 'p': 16, 'q': 17, 'r': 18, 's': 19, 't': 20, 'u': 21, 'v': 22, 'w': 23, 'x': 24, 'y': 25, 'z': 26, 'A': 27, 'B': 28, 'C': 29, 'D': 30, 'E': 31, 'F': 32, 'G': 33, 'H': 34, 'I': 35, 'J': 36, 'K': 37, 'L': 38, 'M': 39, 'N': 40, 'O': 41, 'P': 42, 'Q': 43, 'R': 44, 'S': 45, 'T': 46, 'U': 47, 'V': 48, 'W': 49, 'X': 50, 'Y': 51, 'Z': 52}\n",
            "8072\n"
          ]
        }
      ]
    },
    {
      "cell_type": "markdown",
      "source": [
        "## Part 2 : Find the common badge in three lines"
      ],
      "metadata": {
        "id": "FgTi-J1ftsRW"
      }
    },
    {
      "cell_type": "code",
      "source": [
        "from itertools import islice\n",
        "priority = 0\n",
        "with open('/content/day3.txt', 'r') as sacks:\n",
        "    while True:\n",
        "        group = list(islice(sacks, 3))\n",
        "        if not group:\n",
        "            break\n",
        "        else:\n",
        "          sack1, sack2, sack3  = [], [], []\n",
        "          sack1[:0], sack2[:0], sack3[:0] = group[0].strip(), group[1].strip(), group[2].strip()\n",
        "          common_item = (set(sack1) & set(sack2) & set(sack3))\n",
        "          if common_item:\n",
        "            priority += alphabets[list(common_item)[0]]\n",
        "print('Priority of Badge = ', priority)\n",
        "\n",
        "\n"
      ],
      "metadata": {
        "id": "TO2CR1yKunBZ",
        "outputId": "7690febe-884d-4b75-f77e-bc1f74c3a849",
        "colab": {
          "base_uri": "https://localhost:8080/"
        }
      },
      "execution_count": null,
      "outputs": [
        {
          "output_type": "stream",
          "name": "stdout",
          "text": [
            "Priority of Badge =  2567\n"
          ]
        }
      ]
    },
    {
      "cell_type": "markdown",
      "source": [
        "# Day 4 : Camp Cleanup"
      ],
      "metadata": {
        "id": "mGXf11EPohf7"
      }
    },
    {
      "cell_type": "markdown",
      "source": [
        "## Part 1 : Count pairs with one elf section inside another"
      ],
      "metadata": {
        "id": "h6TT1BgMoouO"
      }
    },
    {
      "cell_type": "code",
      "source": [
        "totalPairs = 0\n",
        "with open('/content/day4.txt', 'r') as sections:\n",
        "  for section in sections:\n",
        "    splitsec = section.strip().split(',')\n",
        "    sec1, sec2 = splitsec[0].strip().split('-'), splitsec[1].strip().split('-')\n",
        "    sec1start, sec1end, sec2start, sec2end = int(sec1[0]), int(sec1[1]), int(sec2[0]), int(sec2[1])\n",
        "    if((sec1start<=sec2start and sec2end<=sec1end) or (sec2start<=sec1start and sec1end<=sec2end)):\n",
        "      totalPairs += 1\n",
        "print(totalPairs)"
      ],
      "metadata": {
        "colab": {
          "base_uri": "https://localhost:8080/"
        },
        "id": "5vINhDFCoxdN",
        "outputId": "e0d79cde-b925-4569-fb96-c70e8b2ff75a"
      },
      "execution_count": null,
      "outputs": [
        {
          "output_type": "stream",
          "name": "stdout",
          "text": [
            "540\n"
          ]
        }
      ]
    },
    {
      "cell_type": "markdown",
      "source": [
        "## Part 2 : Count pairs with overlapping values"
      ],
      "metadata": {
        "id": "C0BnFnb_0yVM"
      }
    },
    {
      "cell_type": "code",
      "source": [
        "totalPairs = 0\n",
        "with open('/content/day4.txt', 'r') as sections:\n",
        "  for section in sections:\n",
        "    splitsec = section.strip().split(',')\n",
        "    sec1, sec2 = splitsec[0].strip().split('-'), splitsec[1].strip().split('-')\n",
        "    sec1start, sec1end, sec2start, sec2end = int(sec1[0]), int(sec1[1]), int(sec2[0]), int(sec2[1])\n",
        "    if((sec1start<=sec2start and sec2end<=sec1end) or (sec2start<=sec1start and sec1end<=sec2end) or (sec2start>=sec1start and sec2start<=sec1end) or\n",
        "(sec1start>=sec2start and sec1start <=sec2end)):\n",
        "      totalPairs += 1\n",
        "print(totalPairs)"
      ],
      "metadata": {
        "id": "QdOYWKyl0xlN",
        "outputId": "4706e7af-b178-4929-ab25-a9b923ae9da2",
        "colab": {
          "base_uri": "https://localhost:8080/"
        }
      },
      "execution_count": null,
      "outputs": [
        {
          "output_type": "stream",
          "name": "stdout",
          "text": [
            "872\n"
          ]
        }
      ]
    },
    {
      "cell_type": "markdown",
      "source": [
        "# Day 5: Supply Stacks"
      ],
      "metadata": {
        "id": "GFt41jE1-fgC"
      }
    },
    {
      "cell_type": "markdown",
      "source": [
        "## Part 1 : Find the top most crates in all the stacks"
      ],
      "metadata": {
        "id": "EuS7IiJw-hg4"
      }
    },
    {
      "cell_type": "code",
      "source": [
        "topCrates = \"\"\n",
        "stacks = {\n",
        "1\t: ['H', 'B', 'V', 'W', 'N', 'M', 'L', 'P'],\n",
        "2\t: ['M', 'Q', 'H'],\n",
        "3\t: ['N', 'D', 'B', 'G', 'F', 'Q', 'M', 'L'],\n",
        "4\t: ['Z', 'T', 'F', 'Q', 'M', 'W', 'G'],\n",
        "5\t: ['M', 'T', 'H', 'P'],\n",
        "6\t: ['C', 'B', 'M', 'J', 'D', 'H', 'G', 'T'],\n",
        "7\t: ['M', 'N', 'B', 'F', 'V', 'R'],\n",
        "8\t: ['P', 'L', 'H', 'M', 'R', 'G', 'S'],\n",
        "9\t: ['P', 'D', 'B', 'C', 'N']\n",
        "}\n",
        "with open('/content/day5.txt', 'r') as moves:\n",
        "  for move in moves:\n",
        "    move_arr = move.strip().split()\n",
        "    count, from_s, to_s = int(move_arr[1]), int(move_arr[3]), int(move_arr[5])\n",
        "    for _ in range(count):\n",
        "      stacks[to_s].append(stacks[from_s].pop())\n",
        "for stack in stacks:\n",
        "  topCrates += stacks[stack][-1]\n",
        "print(\"Top crates in each stack = \", topCrates)"
      ],
      "metadata": {
        "id": "iL-z_hnb-m2f",
        "outputId": "fdd711b2-58b3-402d-ef62-b7836cdbb8eb",
        "colab": {
          "base_uri": "https://localhost:8080/"
        }
      },
      "execution_count": 3,
      "outputs": [
        {
          "output_type": "stream",
          "name": "stdout",
          "text": [
            "Top crates in each stack =  WHTLRMZRC\n"
          ]
        }
      ]
    },
    {
      "cell_type": "markdown",
      "source": [
        "## Part B : Move multiple crates in the same order"
      ],
      "metadata": {
        "id": "A4I12thTJFhV"
      }
    },
    {
      "cell_type": "code",
      "source": [
        "stacks = {\n",
        "1\t: ['H', 'B', 'V', 'W', 'N', 'M', 'L', 'P'],\n",
        "2\t: ['M', 'Q', 'H'],\n",
        "3\t: ['N', 'D', 'B', 'G', 'F', 'Q', 'M', 'L'],\n",
        "4\t: ['Z', 'T', 'F', 'Q', 'M', 'W', 'G'],\n",
        "5\t: ['M', 'T', 'H', 'P'],\n",
        "6\t: ['C', 'B', 'M', 'J', 'D', 'H', 'G', 'T'],\n",
        "7\t: ['M', 'N', 'B', 'F', 'V', 'R'],\n",
        "8\t: ['P', 'L', 'H', 'M', 'R', 'G', 'S'],\n",
        "9\t: ['P', 'D', 'B', 'C', 'N']\n",
        "}\n",
        "topCrates = \"\"\n",
        "with open('/content/day5.txt', 'r') as moves:\n",
        "  for move in moves:\n",
        "    move_arr = move.strip().split()\n",
        "    count, from_s, to_s = int(move_arr[1]), int(move_arr[3]), int(move_arr[5])\n",
        "    start = len(stacks[from_s]) - count\n",
        "    stacks[to_s].extend(stacks[from_s][start:])\n",
        "    del stacks[from_s][start:]\n",
        "for stack in stacks:\n",
        "  topCrates += stacks[stack][-1]\n",
        "print(\"Top crates in each stack = \", topCrates)"
      ],
      "metadata": {
        "id": "SzZU0HEPJJvM",
        "outputId": "a45f7e71-5266-4e94-fda9-b511b704b335",
        "colab": {
          "base_uri": "https://localhost:8080/"
        }
      },
      "execution_count": 13,
      "outputs": [
        {
          "output_type": "stream",
          "name": "stdout",
          "text": [
            "Top crates in each stack =  GMPMLWNMG\n"
          ]
        }
      ]
    }
  ]
}