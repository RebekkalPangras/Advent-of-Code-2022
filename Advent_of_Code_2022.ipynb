{
  "nbformat": 4,
  "nbformat_minor": 0,
  "metadata": {
    "colab": {
      "provenance": [],
      "authorship_tag": "ABX9TyPUDaWbMMLCSpBttPp+kGBE",
      "include_colab_link": true
    },
    "kernelspec": {
      "name": "python3",
      "display_name": "Python 3"
    },
    "language_info": {
      "name": "python"
    }
  },
  "cells": [
    {
      "cell_type": "markdown",
      "metadata": {
        "id": "view-in-github",
        "colab_type": "text"
      },
      "source": [
        "<a href=\"https://colab.research.google.com/github/RebekkalPangras/Advent-of-Code-2022/blob/main/Advent_of_Code_2022.ipynb\" target=\"_parent\"><img src=\"https://colab.research.google.com/assets/colab-badge.svg\" alt=\"Open In Colab\"/></a>"
      ]
    },
    {
      "cell_type": "markdown",
      "source": [
        "# Day 1: Calorie Counting"
      ],
      "metadata": {
        "id": "_gLPHtwLuX2a"
      }
    },
    {
      "cell_type": "markdown",
      "source": [
        "## Part 1 - Find the Elf carrying the most Calories. How many total Calories is that Elf carrying?\n",
        "\n"
      ],
      "metadata": {
        "id": "4alMP5L_vGS2"
      }
    },
    {
      "cell_type": "code",
      "execution_count": 22,
      "metadata": {
        "colab": {
          "base_uri": "https://localhost:8080/"
        },
        "id": "8qJdnnONpHOP",
        "outputId": "52fc318f-1427-4d22-fbf7-c3a2bc585c50"
      },
      "outputs": [
        {
          "output_type": "stream",
          "name": "stdout",
          "text": [
            "Elf with Max calorie =  60 Max Calorie =  71502\n"
          ]
        }
      ],
      "source": [
        "max_calorie_elf = 0\n",
        "max_calorie = 0;\n",
        "elf = 1;\n",
        "calorie_count = 0;\n",
        "with open('/content/input.txt', 'r') as calories:\n",
        "  for calorie in calories:\n",
        "    if calorie.strip() == \"\":\n",
        "      if calorie_count > max_calorie:\n",
        "        max_calorie = calorie_count;\n",
        "        max_calorie_elf = elf\n",
        "      # print(\"Elf = \", elf, \"Calorie = \", calorie_count);\n",
        "      elf += 1\n",
        "      calorie_count = 0\n",
        "    else:\n",
        "      calorie_count += int(calorie.strip())\n",
        "if calorie_count > max_calorie:\n",
        "  max_calorie = calorie_count;\n",
        "print(\"Elf with Max calorie = \", max_calorie_elf, \"Max Calorie = \", max_calorie)"
      ]
    },
    {
      "cell_type": "markdown",
      "source": [
        "##  Part 2 - Find the top three Elves carrying the most Calories. How many Calories are those Elves carrying in total?"
      ],
      "metadata": {
        "id": "h2lcTXRpvLbC"
      }
    },
    {
      "cell_type": "code",
      "source": [
        "import operator\n",
        "elf_dict = {}\n",
        "elf = 1;\n",
        "calorie_count = 0;\n",
        "with open('/content/input.txt', 'r') as calories:\n",
        "  for calorie in calories:\n",
        "    if calorie.strip() == \"\":\n",
        "        elf_dict[elf] = calorie_count\n",
        "        elf += 1\n",
        "        calorie_count = 0\n",
        "    else:\n",
        "      calorie_count += int(calorie.strip())\n",
        "elf_dict[elf] = calorie_count\n",
        "\n",
        "sorted_elf_dict = dict(sorted(elf_dict.items(), key=operator.itemgetter(1),reverse=True))\n",
        "i = 0\n",
        "first_three_elfs = []\n",
        "maximum_calories = 0\n",
        "for elf, calorie in sorted_elf_dict.items():\n",
        "  if i == 3:\n",
        "    break;\n",
        "  i += 1\n",
        "  first_three_elfs.append(elf)\n",
        "  maximum_calories += calorie\n",
        "print(\"Sum of top three Calories = \", maximum_calories)"
      ],
      "metadata": {
        "colab": {
          "base_uri": "https://localhost:8080/"
        },
        "id": "8YAcp9_6vNiR",
        "outputId": "bf3d9130-f4a8-4733-ff30-01e9ce7535e8"
      },
      "execution_count": 21,
      "outputs": [
        {
          "output_type": "stream",
          "name": "stdout",
          "text": [
            "Sum of top three Calories =  208191\n"
          ]
        }
      ]
    }
  ]
}