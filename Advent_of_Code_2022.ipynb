{
  "nbformat": 4,
  "nbformat_minor": 0,
  "metadata": {
    "colab": {
      "provenance": [],
      "authorship_tag": "ABX9TyOv6yy4UgOfdRFiWwUgYO60",
      "include_colab_link": true
    },
    "kernelspec": {
      "name": "python3",
      "display_name": "Python 3"
    },
    "language_info": {
      "name": "python"
    }
  },
  "cells": [
    {
      "cell_type": "markdown",
      "metadata": {
        "id": "view-in-github",
        "colab_type": "text"
      },
      "source": [
        "<a href=\"https://colab.research.google.com/github/RebekkalPangras/Advent-of-Code-2022/blob/main/Advent_of_Code_2022.ipynb\" target=\"_parent\"><img src=\"https://colab.research.google.com/assets/colab-badge.svg\" alt=\"Open In Colab\"/></a>"
      ]
    },
    {
      "cell_type": "markdown",
      "source": [
        "# Day 1: Calorie Counting"
      ],
      "metadata": {
        "id": "_gLPHtwLuX2a"
      }
    },
    {
      "cell_type": "code",
      "execution_count": 8,
      "metadata": {
        "colab": {
          "base_uri": "https://localhost:8080/"
        },
        "id": "8qJdnnONpHOP",
        "outputId": "e0447def-0811-4a80-84c0-3f217d7c734a"
      },
      "outputs": [
        {
          "output_type": "stream",
          "name": "stdout",
          "text": [
            "Elf with Max calorie =  60 Max Calorie =  71502\n"
          ]
        }
      ],
      "source": [
        "max_calorie_elf = 0\n",
        "max_calorie = 0;\n",
        "elf = 1;\n",
        "calorie_count = 0;\n",
        "with open('/content/input.txt', 'r') as calories:\n",
        "  for calorie in calories:\n",
        "    if calorie.strip() == \"\":\n",
        "      if calorie_count > max_calorie:\n",
        "        max_calorie = calorie_count;\n",
        "        max_calorie_elf = elf\n",
        "      # print(\"Elf = \", elf, \"Calorie = \", calorie_count);\n",
        "      elf += 1\n",
        "      calorie_count = 0\n",
        "    else:\n",
        "      calorie_count += int(calorie.strip())\n",
        "if calorie_count > max_calorie:\n",
        "  max_calorie = calorie_count;\n",
        "print(\"Elf with Max calorie = \", max_calorie_elf, \"Max Calorie = \", max_calorie)"
      ]
    }
  ]
}