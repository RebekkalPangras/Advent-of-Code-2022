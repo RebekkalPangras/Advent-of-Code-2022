{
  "nbformat": 4,
  "nbformat_minor": 0,
  "metadata": {
    "colab": {
      "provenance": [],
      "authorship_tag": "ABX9TyNVsHhmTSS3p5AXXuM6dGWl",
      "include_colab_link": true
    },
    "kernelspec": {
      "name": "python3",
      "display_name": "Python 3"
    },
    "language_info": {
      "name": "python"
    }
  },
  "cells": [
    {
      "cell_type": "markdown",
      "metadata": {
        "id": "view-in-github",
        "colab_type": "text"
      },
      "source": [
        "<a href=\"https://colab.research.google.com/github/RebekkalPangras/Advent-of-Code-2022/blob/main/Advent_of_Code_2022.ipynb\" target=\"_parent\"><img src=\"https://colab.research.google.com/assets/colab-badge.svg\" alt=\"Open In Colab\"/></a>"
      ]
    },
    {
      "cell_type": "markdown",
      "source": [
        "# Day 1: Calorie Counting"
      ],
      "metadata": {
        "id": "_gLPHtwLuX2a"
      }
    },
    {
      "cell_type": "markdown",
      "source": [
        "## Part 1 : Find the Elf carrying the most Calories. How many total Calories is that Elf carrying?\n",
        "\n"
      ],
      "metadata": {
        "id": "4alMP5L_vGS2"
      }
    },
    {
      "cell_type": "code",
      "execution_count": null,
      "metadata": {
        "colab": {
          "base_uri": "https://localhost:8080/"
        },
        "id": "8qJdnnONpHOP",
        "outputId": "52fc318f-1427-4d22-fbf7-c3a2bc585c50"
      },
      "outputs": [
        {
          "output_type": "stream",
          "name": "stdout",
          "text": [
            "Elf with Max calorie =  60 Max Calorie =  71502\n"
          ]
        }
      ],
      "source": [
        "max_calorie_elf = 0\n",
        "max_calorie = 0;\n",
        "elf = 1;\n",
        "calorie_count = 0;\n",
        "with open('/content/day1.txt', 'r') as calories:\n",
        "  for calorie in calories:\n",
        "    if calorie.strip() == \"\":\n",
        "      if calorie_count > max_calorie:\n",
        "        max_calorie = calorie_count;\n",
        "        max_calorie_elf = elf\n",
        "      # print(\"Elf = \", elf, \"Calorie = \", calorie_count);\n",
        "      elf += 1\n",
        "      calorie_count = 0\n",
        "    else:\n",
        "      calorie_count += int(calorie.strip())\n",
        "if calorie_count > max_calorie:\n",
        "  max_calorie = calorie_count;\n",
        "print(\"Elf with Max calorie = \", max_calorie_elf, \"Max Calorie = \", max_calorie)"
      ]
    },
    {
      "cell_type": "markdown",
      "source": [
        "##  Part 2 : Find the top three Elves carrying the most Calories. How many Calories are those Elves carrying in total?"
      ],
      "metadata": {
        "id": "h2lcTXRpvLbC"
      }
    },
    {
      "cell_type": "code",
      "source": [
        "import operator\n",
        "elf_dict = {}\n",
        "elf = 1;\n",
        "calorie_count = 0;\n",
        "with open('/content/day1.txt', 'r') as calories:\n",
        "  for calorie in calories:\n",
        "    if calorie.strip() == \"\":\n",
        "        elf_dict[elf] = calorie_count\n",
        "        elf += 1\n",
        "        calorie_count = 0\n",
        "    else:\n",
        "      calorie_count += int(calorie.strip())\n",
        "elf_dict[elf] = calorie_count\n",
        "\n",
        "sorted_elf_dict = dict(sorted(elf_dict.items(), key=operator.itemgetter(1),reverse=True))\n",
        "i = 0\n",
        "first_three_elfs = []\n",
        "maximum_calories = 0\n",
        "for elf, calorie in sorted_elf_dict.items():\n",
        "  if i == 3:\n",
        "    break;\n",
        "  i += 1\n",
        "  first_three_elfs.append(elf)\n",
        "  maximum_calories += calorie\n",
        "print(\"Sum of top three Calories = \", maximum_calories)"
      ],
      "metadata": {
        "colab": {
          "base_uri": "https://localhost:8080/"
        },
        "id": "8YAcp9_6vNiR",
        "outputId": "bf3d9130-f4a8-4733-ff30-01e9ce7535e8"
      },
      "execution_count": null,
      "outputs": [
        {
          "output_type": "stream",
          "name": "stdout",
          "text": [
            "Sum of top three Calories =  208191\n"
          ]
        }
      ]
    },
    {
      "cell_type": "markdown",
      "source": [
        "# Day 2 - Rock Paper Scissors"
      ],
      "metadata": {
        "id": "MjiA-U_r5W5_"
      }
    },
    {
      "cell_type": "markdown",
      "source": [
        "## Part 1 : What would your total score be if everything goes exactly according to your strategy guide?"
      ],
      "metadata": {
        "id": "ujb4JxxS5bhw"
      }
    },
    {
      "cell_type": "code",
      "source": [
        "points = {\n",
        "    'A' : 1,\n",
        "    'B' : 2,\n",
        "    'C' : 3,\n",
        "    'X' : 1,\n",
        "    'Y' : 2,\n",
        "    'Z' : 3,\n",
        "    'won' : 6,\n",
        "    'lost' : 0,\n",
        "    'draw' : 3\n",
        "}\n",
        "score = 0\n",
        "with open('/content/day2.txt', 'r') as rounds:\n",
        "  for round in rounds:\n",
        "    opp, elf = round.strip().split()[0], round.strip().split()[1]\n",
        "    # print(opp, elf)\n",
        "    if((elf == 'X' and opp == 'A') or (elf == 'Y' and opp == 'B') or (elf == 'Z' and opp == 'C')):\n",
        "      score = score + points[elf] + points[\"draw\"]\n",
        "    elif(elf == 'X'):\n",
        "      if(opp == 'C'):\n",
        "        score = score + points[elf] + points[\"won\"]\n",
        "      else:\n",
        "        score = score + points[elf] + points[\"lost\"]\n",
        "    elif(elf == 'Y'):\n",
        "      if(opp == 'A'):\n",
        "        score = score + points[elf] + points[\"won\"]\n",
        "      else:\n",
        "        score = score + points[elf] + points[\"lost\"]\n",
        "    elif(elf == 'Z'):\n",
        "      if(opp == 'B'):\n",
        "        score = score + points[elf] + points[\"won\"]\n",
        "      else:\n",
        "        score = score + points[elf] + points[\"lost\"]\n",
        "print(\"Total score = \", score)"
      ],
      "metadata": {
        "id": "YndF46tL5gdT",
        "outputId": "a1b4dfa7-f91a-4164-c7fc-1034cf399345",
        "colab": {
          "base_uri": "https://localhost:8080/"
        }
      },
      "execution_count": null,
      "outputs": [
        {
          "output_type": "stream",
          "name": "stdout",
          "text": [
            "Total score =  15632\n"
          ]
        }
      ]
    },
    {
      "cell_type": "markdown",
      "source": [
        "## Part B : Elf's strategy guide"
      ],
      "metadata": {
        "id": "njzy2S5wLhR3"
      }
    },
    {
      "cell_type": "code",
      "source": [
        "points = {\n",
        "    'opp_rock' : 'A',\n",
        "    'opp_paper' : 'B',\n",
        "    'opp_scissor' : 'C',\n",
        "    'elf_rock' : 'X',\n",
        "    'elf_paper' : 'Y',\n",
        "    'elf_scissor' : 'Z',\n",
        "    'rock' : 1,\n",
        "    'paper' : 2,\n",
        "    'scissor' : 3,\n",
        "    'won' : 6,\n",
        "    'lost' : 0,\n",
        "    'draw' : 3\n",
        "}\n",
        "score = 0\n",
        "with open('/content/day2.txt', 'r') as rounds:\n",
        "  for round in rounds:\n",
        "    opp, elf = round.strip().split()[0], round.strip().split()[1]\n",
        "    if(elf == points['elf_rock']): # lose\n",
        "      if(opp==points['opp_rock']):\n",
        "        score = score + points['scissor'] + points['lost']\n",
        "      elif(opp==points['opp_paper']):\n",
        "        score = score + points['rock'] + points['lost']\n",
        "      else:\n",
        "        score = score + points['paper'] + points['lost']\n",
        "    elif(elf == points['elf_paper']): # draw\n",
        "      if(opp==points['opp_rock']):\n",
        "        score = score + points['rock'] + points['draw']\n",
        "      elif(opp==points['opp_paper']):\n",
        "        score = score + points['paper'] + points['draw']\n",
        "      else:\n",
        "        score = score + points['scissor'] + points['draw']\n",
        "    else: # win\n",
        "      if(opp==points['opp_rock']):\n",
        "        score = score + points['paper'] + points['won']\n",
        "      elif(opp==points['opp_paper']):\n",
        "        score = score + points['scissor'] + points['won']\n",
        "      else:\n",
        "        score = score + points['rock'] + points['won']\n",
        "print(\"Total score = \", score)"
      ],
      "metadata": {
        "id": "yD-Yp0T8LnMi",
        "outputId": "0e708845-a162-43c5-a372-7ebe71341e90",
        "colab": {
          "base_uri": "https://localhost:8080/"
        }
      },
      "execution_count": null,
      "outputs": [
        {
          "output_type": "stream",
          "name": "stdout",
          "text": [
            "Total score =  14416\n"
          ]
        }
      ]
    },
    {
      "cell_type": "markdown",
      "source": [
        "# Day 3 : Rucksack Reorganization"
      ],
      "metadata": {
        "id": "rEjAA5UvgIDR"
      }
    },
    {
      "cell_type": "markdown",
      "source": [
        "## Part 1 : Sum of priorities of values present in both the compartments of rucksacks"
      ],
      "metadata": {
        "id": "MKgVjJOegN9P"
      }
    },
    {
      "cell_type": "code",
      "source": [
        "# store the alphabets in a dict\n",
        "alphabets = {}\n",
        "case_count = 0\n",
        "total_priority = 0\n",
        "for i in range(97,123):\n",
        "    case_count += 1\n",
        "    alphabets[chr(i)] = case_count\n",
        "for i in range(65,91):\n",
        "    case_count += 1\n",
        "    alphabets[chr(i)] = case_count\n",
        "print(alphabets)\n",
        "with open('/content/day3.txt') as sacks:\n",
        "  for sack in sacks:\n",
        "    midpoint = int(len(sack.strip())/2)\n",
        "    compartment1, compartment2 = sack[:midpoint], sack[midpoint:]\n",
        "    commonitem = set(compartment1) & set(compartment2)\n",
        "    if(commonitem):\n",
        "      total_priority += alphabets[list(commonitem)[0]]\n",
        "print(total_priority)"
      ],
      "metadata": {
        "id": "iT3anf9ugV8b",
        "outputId": "b771eae9-472e-48f6-b28d-6d5c3da1735e",
        "colab": {
          "base_uri": "https://localhost:8080/"
        }
      },
      "execution_count": 22,
      "outputs": [
        {
          "output_type": "stream",
          "name": "stdout",
          "text": [
            "{'a': 1, 'b': 2, 'c': 3, 'd': 4, 'e': 5, 'f': 6, 'g': 7, 'h': 8, 'i': 9, 'j': 10, 'k': 11, 'l': 12, 'm': 13, 'n': 14, 'o': 15, 'p': 16, 'q': 17, 'r': 18, 's': 19, 't': 20, 'u': 21, 'v': 22, 'w': 23, 'x': 24, 'y': 25, 'z': 26, 'A': 27, 'B': 28, 'C': 29, 'D': 30, 'E': 31, 'F': 32, 'G': 33, 'H': 34, 'I': 35, 'J': 36, 'K': 37, 'L': 38, 'M': 39, 'N': 40, 'O': 41, 'P': 42, 'Q': 43, 'R': 44, 'S': 45, 'T': 46, 'U': 47, 'V': 48, 'W': 49, 'X': 50, 'Y': 51, 'Z': 52}\n",
            "8072\n"
          ]
        }
      ]
    },
    {
      "cell_type": "markdown",
      "source": [
        "## Part 2 : Find the common badge in three lines"
      ],
      "metadata": {
        "id": "FgTi-J1ftsRW"
      }
    },
    {
      "cell_type": "code",
      "source": [
        "from itertools import islice\n",
        "priority = 0\n",
        "with open('/content/day3.txt', 'r') as sacks:\n",
        "    while True:\n",
        "        group = list(islice(sacks, 3))\n",
        "        if not group:\n",
        "            break\n",
        "        else:\n",
        "          sack1, sack2, sack3  = [], [], []\n",
        "          sack1[:0], sack2[:0], sack3[:0] = group[0].strip(), group[1].strip(), group[2].strip()\n",
        "          common_item = (set(sack1) & set(sack2) & set(sack3))\n",
        "          if common_item:\n",
        "            priority += alphabets[list(common_item)[0]]\n",
        "print('Priority of Badge = ', priority)\n",
        "\n",
        "\n"
      ],
      "metadata": {
        "id": "TO2CR1yKunBZ",
        "outputId": "7690febe-884d-4b75-f77e-bc1f74c3a849",
        "colab": {
          "base_uri": "https://localhost:8080/"
        }
      },
      "execution_count": 37,
      "outputs": [
        {
          "output_type": "stream",
          "name": "stdout",
          "text": [
            "Priority of Badge =  2567\n"
          ]
        }
      ]
    }
  ]
}