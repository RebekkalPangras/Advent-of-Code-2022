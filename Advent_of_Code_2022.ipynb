{
  "nbformat": 4,
  "nbformat_minor": 0,
  "metadata": {
    "colab": {
      "provenance": [],
      "authorship_tag": "ABX9TyMQRhZxNypLEd8Rs/k3X1H+",
      "include_colab_link": true
    },
    "kernelspec": {
      "name": "python3",
      "display_name": "Python 3"
    },
    "language_info": {
      "name": "python"
    }
  },
  "cells": [
    {
      "cell_type": "markdown",
      "metadata": {
        "id": "view-in-github",
        "colab_type": "text"
      },
      "source": [
        "<a href=\"https://colab.research.google.com/github/RebekkalPangras/Advent-of-Code-2022/blob/main/Advent_of_Code_2022.ipynb\" target=\"_parent\"><img src=\"https://colab.research.google.com/assets/colab-badge.svg\" alt=\"Open In Colab\"/></a>"
      ]
    },
    {
      "cell_type": "markdown",
      "source": [
        "# Day 1: Calorie Counting"
      ],
      "metadata": {
        "id": "_gLPHtwLuX2a"
      }
    },
    {
      "cell_type": "markdown",
      "source": [
        "## Part 1 - Find the Elf carrying the most Calories. How many total Calories is that Elf carrying?\n",
        "\n"
      ],
      "metadata": {
        "id": "4alMP5L_vGS2"
      }
    },
    {
      "cell_type": "code",
      "execution_count": null,
      "metadata": {
        "colab": {
          "base_uri": "https://localhost:8080/"
        },
        "id": "8qJdnnONpHOP",
        "outputId": "52fc318f-1427-4d22-fbf7-c3a2bc585c50"
      },
      "outputs": [
        {
          "output_type": "stream",
          "name": "stdout",
          "text": [
            "Elf with Max calorie =  60 Max Calorie =  71502\n"
          ]
        }
      ],
      "source": [
        "max_calorie_elf = 0\n",
        "max_calorie = 0;\n",
        "elf = 1;\n",
        "calorie_count = 0;\n",
        "with open('/content/day1.txt', 'r') as calories:\n",
        "  for calorie in calories:\n",
        "    if calorie.strip() == \"\":\n",
        "      if calorie_count > max_calorie:\n",
        "        max_calorie = calorie_count;\n",
        "        max_calorie_elf = elf\n",
        "      # print(\"Elf = \", elf, \"Calorie = \", calorie_count);\n",
        "      elf += 1\n",
        "      calorie_count = 0\n",
        "    else:\n",
        "      calorie_count += int(calorie.strip())\n",
        "if calorie_count > max_calorie:\n",
        "  max_calorie = calorie_count;\n",
        "print(\"Elf with Max calorie = \", max_calorie_elf, \"Max Calorie = \", max_calorie)"
      ]
    },
    {
      "cell_type": "markdown",
      "source": [
        "##  Part 2 - Find the top three Elves carrying the most Calories. How many Calories are those Elves carrying in total?"
      ],
      "metadata": {
        "id": "h2lcTXRpvLbC"
      }
    },
    {
      "cell_type": "code",
      "source": [
        "import operator\n",
        "elf_dict = {}\n",
        "elf = 1;\n",
        "calorie_count = 0;\n",
        "with open('/content/day1.txt', 'r') as calories:\n",
        "  for calorie in calories:\n",
        "    if calorie.strip() == \"\":\n",
        "        elf_dict[elf] = calorie_count\n",
        "        elf += 1\n",
        "        calorie_count = 0\n",
        "    else:\n",
        "      calorie_count += int(calorie.strip())\n",
        "elf_dict[elf] = calorie_count\n",
        "\n",
        "sorted_elf_dict = dict(sorted(elf_dict.items(), key=operator.itemgetter(1),reverse=True))\n",
        "i = 0\n",
        "first_three_elfs = []\n",
        "maximum_calories = 0\n",
        "for elf, calorie in sorted_elf_dict.items():\n",
        "  if i == 3:\n",
        "    break;\n",
        "  i += 1\n",
        "  first_three_elfs.append(elf)\n",
        "  maximum_calories += calorie\n",
        "print(\"Sum of top three Calories = \", maximum_calories)"
      ],
      "metadata": {
        "colab": {
          "base_uri": "https://localhost:8080/"
        },
        "id": "8YAcp9_6vNiR",
        "outputId": "bf3d9130-f4a8-4733-ff30-01e9ce7535e8"
      },
      "execution_count": null,
      "outputs": [
        {
          "output_type": "stream",
          "name": "stdout",
          "text": [
            "Sum of top three Calories =  208191\n"
          ]
        }
      ]
    },
    {
      "cell_type": "markdown",
      "source": [
        "# Day 2 - Rock Paper Scissors"
      ],
      "metadata": {
        "id": "MjiA-U_r5W5_"
      }
    },
    {
      "cell_type": "markdown",
      "source": [
        "## Part 1 : What would your total score be if everything goes exactly according to your strategy guide?"
      ],
      "metadata": {
        "id": "ujb4JxxS5bhw"
      }
    },
    {
      "cell_type": "code",
      "source": [
        "points = {\n",
        "    'A' : 1,\n",
        "    'B' : 2,\n",
        "    'C' : 3,\n",
        "    'X' : 1,\n",
        "    'Y' : 2,\n",
        "    'Z' : 3,\n",
        "    'won' : 6,\n",
        "    'lost' : 0,\n",
        "    'draw' : 3\n",
        "}\n",
        "score = 0\n",
        "with open('/content/day2.txt', 'r') as rounds:\n",
        "  for round in rounds:\n",
        "    opp, elf = round.strip().split()[0], round.strip().split()[1]\n",
        "    # print(opp, elf)\n",
        "    if((elf == 'X' and opp == 'A') or (elf == 'Y' and opp == 'B') or (elf == 'Z' and opp == 'C')):\n",
        "      score = score + points[elf] + points[\"draw\"]\n",
        "    elif(elf == 'X'):\n",
        "      if(opp == 'C'):\n",
        "        score = score + points[elf] + points[\"won\"]\n",
        "      else:\n",
        "        score = score + points[elf] + points[\"lost\"]\n",
        "    elif(elf == 'Y'):\n",
        "      if(opp == 'A'):\n",
        "        score = score + points[elf] + points[\"won\"]\n",
        "      else:\n",
        "        score = score + points[elf] + points[\"lost\"]\n",
        "    elif(elf == 'Z'):\n",
        "      if(opp == 'B'):\n",
        "        score = score + points[elf] + points[\"won\"]\n",
        "      else:\n",
        "        score = score + points[elf] + points[\"lost\"]\n",
        "print(\"Total score = \", score)"
      ],
      "metadata": {
        "id": "YndF46tL5gdT",
        "outputId": "a1b4dfa7-f91a-4164-c7fc-1034cf399345",
        "colab": {
          "base_uri": "https://localhost:8080/"
        }
      },
      "execution_count": 12,
      "outputs": [
        {
          "output_type": "stream",
          "name": "stdout",
          "text": [
            "Total score =  15632\n"
          ]
        }
      ]
    },
    {
      "cell_type": "markdown",
      "source": [
        "## Part B : Elf's strategy guide"
      ],
      "metadata": {
        "id": "njzy2S5wLhR3"
      }
    },
    {
      "cell_type": "code",
      "source": [
        "points = {\n",
        "    'opp_rock' : 'A',\n",
        "    'opp_paper' : 'B',\n",
        "    'opp_scissor' : 'C',\n",
        "    'elf_rock' : 'X',\n",
        "    'elf_paper' : 'Y',\n",
        "    'elf_scissor' : 'Z',\n",
        "    'rock' : 1,\n",
        "    'paper' : 2,\n",
        "    'scissor' : 3,\n",
        "    'won' : 6,\n",
        "    'lost' : 0,\n",
        "    'draw' : 3\n",
        "}\n",
        "score = 0\n",
        "with open('/content/day2.txt', 'r') as rounds:\n",
        "  for round in rounds:\n",
        "    opp, elf = round.strip().split()[0], round.strip().split()[1]\n",
        "    if(elf == points['elf_rock']): # lose\n",
        "      if(opp==points['opp_rock']):\n",
        "        score = score + points['scissor'] + points['lost']\n",
        "      elif(opp==points['opp_paper']):\n",
        "        score = score + points['rock'] + points['lost']\n",
        "      else:\n",
        "        score = score + points['paper'] + points['lost']\n",
        "    elif(elf == points['elf_paper']): # draw\n",
        "      if(opp==points['opp_rock']):\n",
        "        score = score + points['rock'] + points['draw']\n",
        "      elif(opp==points['opp_paper']):\n",
        "        score = score + points['paper'] + points['draw']\n",
        "      else:\n",
        "        score = score + points['scissor'] + points['draw']\n",
        "    else: # win\n",
        "      if(opp==points['opp_rock']):\n",
        "        score = score + points['paper'] + points['won']\n",
        "      elif(opp==points['opp_paper']):\n",
        "        score = score + points['scissor'] + points['won']\n",
        "      else:\n",
        "        score = score + points['rock'] + points['won']\n",
        "print(\"Total score = \", score)"
      ],
      "metadata": {
        "id": "yD-Yp0T8LnMi",
        "outputId": "0e708845-a162-43c5-a372-7ebe71341e90",
        "colab": {
          "base_uri": "https://localhost:8080/"
        }
      },
      "execution_count": 16,
      "outputs": [
        {
          "output_type": "stream",
          "name": "stdout",
          "text": [
            "Total score =  14416\n"
          ]
        }
      ]
    }
  ]
}